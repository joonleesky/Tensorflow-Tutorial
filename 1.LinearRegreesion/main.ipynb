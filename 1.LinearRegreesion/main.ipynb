{
 "cells": [
  {
   "cell_type": "code",
   "execution_count": 1,
   "metadata": {},
   "outputs": [
    {
     "name": "stderr",
     "output_type": "stream",
     "text": [
      "/home/hojoon/anaconda3/lib/python3.6/importlib/_bootstrap.py:219: RuntimeWarning: compiletime version 3.5 of module 'tensorflow.python.framework.fast_tensor_util' does not match runtime version 3.6\n",
      "  return f(*args, **kwds)\n",
      "/home/hojoon/anaconda3/lib/python3.6/site-packages/h5py/__init__.py:36: FutureWarning: Conversion of the second argument of issubdtype from `float` to `np.floating` is deprecated. In future, it will be treated as `np.float64 == np.dtype(float).type`.\n",
      "  from ._conv import register_converters as _register_converters\n"
     ]
    }
   ],
   "source": [
    "import tensorflow as tf\n",
    "import numpy as np"
   ]
  },
  {
   "cell_type": "code",
   "execution_count": 2,
   "metadata": {},
   "outputs": [],
   "source": [
    "x_data = [1,2,3]\n",
    "y_data = [1,2,3]"
   ]
  },
  {
   "cell_type": "code",
   "execution_count": 3,
   "metadata": {},
   "outputs": [],
   "source": [
    "# Name of the placeholder is used to easily recognizable in debugging ex) Tensorboard\n",
    "\n",
    "X = tf.placeholder(tf.float32, name = \"X\")\n",
    "Y = tf.placeholder(tf.float32, name = \"Y\")"
   ]
  },
  {
   "cell_type": "code",
   "execution_count": 4,
   "metadata": {},
   "outputs": [],
   "source": [
    "W = tf.Variable(tf.random_uniform([1], -1.0, 1.0))\n",
    "b = tf.Variable(tf.random_uniform([1], -1.0, 1.0))"
   ]
  },
  {
   "cell_type": "code",
   "execution_count": 5,
   "metadata": {},
   "outputs": [],
   "source": [
    "pred = W * X + b\n",
    "\n",
    "# Mean[(pred - Y)^2]\n",
    "cost = tf.reduce_mean(tf.square(pred - Y))\n",
    "optimizer = tf.train.GradientDescentOptimizer(learning_rate=1e-2)\n",
    "train_op  = optimizer.minimize(cost) "
   ]
  },
  {
   "cell_type": "code",
   "execution_count": 14,
   "metadata": {},
   "outputs": [
    {
     "name": "stdout",
     "output_type": "stream",
     "text": [
      "---Train---\n",
      "Step: 0 Cost: 14.350972\n",
      "Step: 100 Cost: 0.008152\n",
      "Step: 200 Cost: 0.005038\n",
      "Step: 300 Cost: 0.003113\n",
      "Step: 400 Cost: 0.001924\n",
      "Step: 500 Cost: 0.001189\n",
      "Step: 600 Cost: 0.000735\n",
      "Step: 700 Cost: 0.000454\n",
      "Step: 800 Cost: 0.000280\n",
      "Step: 900 Cost: 0.000173\n",
      "\n",
      "---Prediction---\n",
      "X:5 -> Y:5.032774\n"
     ]
    }
   ],
   "source": [
    "with tf.Session() as sess:\n",
    "    sess.run(tf.global_variables_initializer())\n",
    "\n",
    "    print('---Train---')\n",
    "    for step in range(1000):\n",
    "        _, cost_val = sess.run([train_op, cost], feed_dict = {X:x_data, Y:y_data})\n",
    "        \n",
    "        if step % 100 == 0:\n",
    "            print('Step: %d Cost: %f'%(step, cost_val))\n",
    "           \n",
    "    print('\\n---Prediction---')\n",
    "    print(\"X:5 -> Y:%f\"%(sess.run(pred, feed_dict={X:5})))"
   ]
  },
  {
   "cell_type": "code",
   "execution_count": null,
   "metadata": {},
   "outputs": [],
   "source": []
  }
 ],
 "metadata": {
  "kernelspec": {
   "display_name": "Python 3",
   "language": "python",
   "name": "python3"
  },
  "language_info": {
   "codemirror_mode": {
    "name": "ipython",
    "version": 3
   },
   "file_extension": ".py",
   "mimetype": "text/x-python",
   "name": "python",
   "nbconvert_exporter": "python",
   "pygments_lexer": "ipython3",
   "version": "3.6.4"
  }
 },
 "nbformat": 4,
 "nbformat_minor": 2
}
