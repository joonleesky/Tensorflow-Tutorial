{
 "cells": [
  {
   "cell_type": "code",
   "execution_count": 1,
   "metadata": {},
   "outputs": [
    {
     "name": "stderr",
     "output_type": "stream",
     "text": [
      "/home/hojoon/anaconda3/lib/python3.6/importlib/_bootstrap.py:219: RuntimeWarning: compiletime version 3.5 of module 'tensorflow.python.framework.fast_tensor_util' does not match runtime version 3.6\n",
      "  return f(*args, **kwds)\n",
      "/home/hojoon/anaconda3/lib/python3.6/site-packages/h5py/__init__.py:36: FutureWarning: Conversion of the second argument of issubdtype from `float` to `np.floating` is deprecated. In future, it will be treated as `np.float64 == np.dtype(float).type`.\n",
      "  from ._conv import register_converters as _register_converters\n"
     ]
    }
   ],
   "source": [
    "import tensorflow as tf\n",
    "import numpy as np"
   ]
  },
  {
   "cell_type": "code",
   "execution_count": 2,
   "metadata": {},
   "outputs": [
    {
     "name": "stdout",
     "output_type": "stream",
     "text": [
      "Extracting ./mnist/data/train-images-idx3-ubyte.gz\n",
      "Extracting ./mnist/data/train-labels-idx1-ubyte.gz\n",
      "Extracting ./mnist/data/t10k-images-idx3-ubyte.gz\n",
      "Extracting ./mnist/data/t10k-labels-idx1-ubyte.gz\n"
     ]
    }
   ],
   "source": [
    "from tensorflow.examples.tutorials.mnist import input_data\n",
    "mnist = input_data.read_data_sets(\"./mnist/data/\", one_hot = True)"
   ]
  },
  {
   "cell_type": "code",
   "execution_count": 3,
   "metadata": {},
   "outputs": [],
   "source": [
    "learning_rate = 1e-3\n",
    "total_epoch = 30\n",
    "batch_size  = 256\n",
    "\n",
    "input_size  = 28\n",
    "hidden_size = 128\n",
    "class_size  = 10\n",
    "step_size   = 28"
   ]
  },
  {
   "cell_type": "markdown",
   "metadata": {},
   "source": [
    "### Build Graph"
   ]
  },
  {
   "cell_type": "code",
   "execution_count": 4,
   "metadata": {},
   "outputs": [],
   "source": [
    "X = tf.placeholder(tf.float32, [None, step_size, input_size])\n",
    "Y = tf.placeholder(tf.float32, [None, class_size])"
   ]
  },
  {
   "cell_type": "code",
   "execution_count": 5,
   "metadata": {},
   "outputs": [],
   "source": [
    "W = tf.Variable(tf.random_normal([hidden_size, class_size]))\n",
    "b = tf.Variable(tf.random_normal([class_size]))"
   ]
  },
  {
   "cell_type": "code",
   "execution_count": 6,
   "metadata": {},
   "outputs": [
    {
     "name": "stdout",
     "output_type": "stream",
     "text": [
      "<tensorflow.python.ops.rnn_cell_impl.BasicRNNCell object at 0x7f87e2922e10>\n",
      "Tensor(\"rnn/transpose:0\", shape=(?, 28, 128), dtype=float32) Tensor(\"rnn/while/Exit_2:0\", shape=(?, 128), dtype=float32)\n"
     ]
    }
   ],
   "source": [
    "\"\"\"\n",
    "Creating RNN\n",
    "\n",
    "1. Make Cell\n",
    "2. Initialize State\n",
    "3. Make RNN\n",
    "\n",
    "\"\"\" \n",
    "\n",
    "cell = tf.nn.rnn_cell.BasicRNNCell(hidden_size)\n",
    "# initial_state = cell.zero_state(batch_size, dtype = tf.float32)  \n",
    "outputs, states = tf.nn.dynamic_rnn(cell = cell, inputs = X, dtype = tf.float32) # if initial state is not designated, it will automatically assigned to be zero\n",
    "\n",
    "# 'outputs' is a tensor of shape [batch_size, max_time, 256]\n",
    "\n",
    "print(cell)\n",
    "print(outputs, states)"
   ]
  },
  {
   "cell_type": "code",
   "execution_count": 7,
   "metadata": {},
   "outputs": [
    {
     "name": "stdout",
     "output_type": "stream",
     "text": [
      "Tensor(\"strided_slice:0\", shape=(?, 128), dtype=float32)\n"
     ]
    }
   ],
   "source": [
    "outputs = tf.transpose(outputs, [1,0,2])\n",
    "outputs = outputs[-1]\n",
    "\n",
    "print(outputs)"
   ]
  },
  {
   "cell_type": "code",
   "execution_count": 8,
   "metadata": {},
   "outputs": [],
   "source": [
    "score = tf.matmul(outputs, W) + b\n",
    "\n",
    "loss = tf.reduce_mean(tf.nn.softmax_cross_entropy_with_logits(logits = score, labels = Y))\n",
    "optimizer = tf.train.AdamOptimizer(learning_rate)\n",
    "train_op  = optimizer.minimize(loss)"
   ]
  },
  {
   "cell_type": "code",
   "execution_count": 9,
   "metadata": {},
   "outputs": [],
   "source": [
    "# Prediction\n",
    "is_correct = tf.equal(tf.argmax(score, 1), tf.argmax(Y, 1))\n",
    "accuracy = tf.reduce_mean(tf.to_float(is_correct))"
   ]
  },
  {
   "cell_type": "markdown",
   "metadata": {},
   "source": [
    "### Train Graph"
   ]
  },
  {
   "cell_type": "code",
   "execution_count": 10,
   "metadata": {},
   "outputs": [
    {
     "name": "stdout",
     "output_type": "stream",
     "text": [
      "Epoch: 0001 Avg Loss: 0.623\n",
      "Epoch: 0002 Avg Loss: 0.272\n",
      "Epoch: 0003 Avg Loss: 0.206\n",
      "Epoch: 0004 Avg Loss: 0.169\n",
      "Epoch: 0005 Avg Loss: 0.151\n",
      "Epoch: 0006 Avg Loss: 0.131\n",
      "Epoch: 0007 Avg Loss: 0.118\n",
      "Epoch: 0008 Avg Loss: 0.116\n",
      "Epoch: 0009 Avg Loss: 0.106\n",
      "Epoch: 0010 Avg Loss: 0.096\n",
      "Epoch: 0011 Avg Loss: 0.095\n",
      "Epoch: 0012 Avg Loss: 0.090\n",
      "Epoch: 0013 Avg Loss: 0.084\n",
      "Epoch: 0014 Avg Loss: 0.081\n",
      "Epoch: 0015 Avg Loss: 0.076\n",
      "Epoch: 0016 Avg Loss: 0.075\n",
      "Epoch: 0017 Avg Loss: 0.073\n",
      "Epoch: 0018 Avg Loss: 0.073\n",
      "Epoch: 0019 Avg Loss: 0.067\n",
      "Epoch: 0020 Avg Loss: 0.066\n",
      "Epoch: 0021 Avg Loss: 0.068\n",
      "Epoch: 0022 Avg Loss: 0.059\n",
      "Epoch: 0023 Avg Loss: 0.062\n",
      "Epoch: 0024 Avg Loss: 0.062\n",
      "Epoch: 0025 Avg Loss: 0.061\n",
      "Epoch: 0026 Avg Loss: 0.054\n",
      "Epoch: 0027 Avg Loss: 0.049\n",
      "Epoch: 0028 Avg Loss: 0.057\n",
      "Epoch: 0029 Avg Loss: 0.050\n",
      "Epoch: 0030 Avg Loss: 0.048\n",
      "Accuracy:  0.9736\n"
     ]
    }
   ],
   "source": [
    "with tf.Session() as sess:\n",
    "    sess.run(tf.global_variables_initializer())\n",
    "    \n",
    "    total_batch = int(mnist.train.num_examples / batch_size)\n",
    "    \n",
    "    for epoch in range(total_epoch):\n",
    "        total_loss = 0\n",
    "        \n",
    "        for _ in range(total_batch):\n",
    "            batch_xs, batch_ys = mnist.train.next_batch(batch_size)\n",
    "            batch_xs = batch_xs.reshape((batch_size, step_size, input_size))\n",
    "            \n",
    "            _, loss_val = sess.run([train_op, loss], feed_dict = {X:batch_xs, Y:batch_ys})\n",
    "            \n",
    "            total_loss += loss_val\n",
    "    \n",
    "        print('Epoch:','%04d' %(epoch+1),\n",
    "              'Avg Loss: %.3f' %(total_loss / total_batch))\n",
    "\n",
    "        \n",
    "    #Prediction\n",
    "    test_xs = mnist.test.images.reshape(-1, step_size, input_size)\n",
    "    test_ys = mnist.test.labels\n",
    "    \n",
    "    print('Accuracy: ',sess.run(accuracy, feed_dict = {X:test_xs, Y:test_ys}))"
   ]
  },
  {
   "cell_type": "code",
   "execution_count": null,
   "metadata": {},
   "outputs": [],
   "source": []
  }
 ],
 "metadata": {
  "kernelspec": {
   "display_name": "Python 3",
   "language": "python",
   "name": "python3"
  },
  "language_info": {
   "codemirror_mode": {
    "name": "ipython",
    "version": 3
   },
   "file_extension": ".py",
   "mimetype": "text/x-python",
   "name": "python",
   "nbconvert_exporter": "python",
   "pygments_lexer": "ipython3",
   "version": "3.6.4"
  }
 },
 "nbformat": 4,
 "nbformat_minor": 2
}
