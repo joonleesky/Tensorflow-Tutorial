{
 "cells": [
  {
   "cell_type": "code",
   "execution_count": 1,
   "metadata": {},
   "outputs": [
    {
     "name": "stderr",
     "output_type": "stream",
     "text": [
      "/home/hojoon/anaconda3/lib/python3.6/importlib/_bootstrap.py:219: RuntimeWarning: compiletime version 3.5 of module 'tensorflow.python.framework.fast_tensor_util' does not match runtime version 3.6\n",
      "  return f(*args, **kwds)\n",
      "/home/hojoon/anaconda3/lib/python3.6/site-packages/h5py/__init__.py:36: FutureWarning: Conversion of the second argument of issubdtype from `float` to `np.floating` is deprecated. In future, it will be treated as `np.float64 == np.dtype(float).type`.\n",
      "  from ._conv import register_converters as _register_converters\n"
     ]
    }
   ],
   "source": [
    "import tensorflow as tf\n",
    "import numpy as np"
   ]
  },
  {
   "cell_type": "markdown",
   "metadata": {},
   "source": [
    "### Preprocess Data"
   ]
  },
  {
   "cell_type": "code",
   "execution_count": 2,
   "metadata": {},
   "outputs": [],
   "source": [
    "def word2idx(word, max_length):\n",
    "    idxs = []\n",
    "    for c in word:\n",
    "        idx = ord(c) - 96\n",
    "        idxs.append(idx)\n",
    "        \n",
    "    # Pad until the max_length\n",
    "    remain = max_length - len(idxs)\n",
    "    for _ in range(remain):\n",
    "        idxs.append(0)\n",
    "    \n",
    "    return idxs\n",
    "\n",
    "\n",
    "def one_hot(wordIdx):\n",
    "    \n",
    "    return np.eye(27)[wordIdx]    "
   ]
  },
  {
   "cell_type": "code",
   "execution_count": 3,
   "metadata": {},
   "outputs": [],
   "source": [
    "def preprocess(words):\n",
    "    X  = []\n",
    "    Y  = []\n",
    "    \n",
    "    max_length = len(max(words, key = len))\n",
    "    \n",
    "    for word in words:\n",
    "        X.append(one_hot(word2idx(word[:-1], max_length)))\n",
    "        Y.append(ord(word[-1])-96)\n",
    "    \n",
    "    return np.array(X), np.array(Y,dtype=np.int32)"
   ]
  },
  {
   "cell_type": "code",
   "execution_count": 4,
   "metadata": {},
   "outputs": [
    {
     "name": "stdout",
     "output_type": "stream",
     "text": [
      "(20, 10, 27)\n",
      "(20,)\n"
     ]
    }
   ],
   "source": [
    "words = ['word','wood','deep','dive','cold','cool','load','love','kiss','king','queen'\n",
    "         'hello','hi','brother','sister','mom','dad','mother','father','machine','learning']\n",
    "\n",
    "input_batch, target_batch = preprocess(words)\n",
    "print(input_batch.shape)\n",
    "print(target_batch.shape)"
   ]
  },
  {
   "cell_type": "markdown",
   "metadata": {},
   "source": [
    "### Configuration"
   ]
  },
  {
   "cell_type": "code",
   "execution_count": 5,
   "metadata": {},
   "outputs": [],
   "source": [
    "learning_rate = 1e-2\n",
    "total_epoch = 30\n",
    "batch_size  = 256\n",
    "\n",
    "\n",
    "input_size  = class_size = 27\n",
    "hidden_size = 128\n",
    "step_size   = len(max(words, key = len))"
   ]
  },
  {
   "cell_type": "markdown",
   "metadata": {},
   "source": [
    "### Build Graph"
   ]
  },
  {
   "cell_type": "code",
   "execution_count": 6,
   "metadata": {},
   "outputs": [],
   "source": [
    "X = tf.placeholder(tf.float32, [None, step_size, input_size])\n",
    "Y = tf.placeholder(tf.int32, [None])"
   ]
  },
  {
   "cell_type": "code",
   "execution_count": 7,
   "metadata": {},
   "outputs": [],
   "source": [
    "W = tf.Variable(tf.random_normal([hidden_size, class_size]))\n",
    "b = tf.Variable(tf.random_normal([class_size]))"
   ]
  },
  {
   "cell_type": "code",
   "execution_count": 8,
   "metadata": {},
   "outputs": [],
   "source": [
    "cell1 = tf.nn.rnn_cell.BasicLSTMCell(hidden_size)\n",
    "cell1 = tf.nn.rnn_cell.DropoutWrapper(cell1, output_keep_prob= 0.5)\n",
    "cell2 = tf.nn.rnn_cell.BasicLSTMCell(hidden_size)"
   ]
  },
  {
   "cell_type": "code",
   "execution_count": 9,
   "metadata": {},
   "outputs": [
    {
     "name": "stdout",
     "output_type": "stream",
     "text": [
      "(?, 10, 128)\n"
     ]
    }
   ],
   "source": [
    "cell = tf.nn.rnn_cell.MultiRNNCell([cell1, cell2])\n",
    "outputs, states = tf.nn.dynamic_rnn(cell = cell, inputs = X, dtype = tf.float32)\n",
    "\n",
    "print(outputs.shape)"
   ]
  },
  {
   "cell_type": "code",
   "execution_count": 10,
   "metadata": {},
   "outputs": [],
   "source": [
    "outputs = tf.transpose(outputs, [1,0,2])\n",
    "outputs = outputs[-1]\n",
    "\n",
    "score = tf.matmul(outputs, W) + b"
   ]
  },
  {
   "cell_type": "code",
   "execution_count": 11,
   "metadata": {},
   "outputs": [],
   "source": [
    "loss = tf.reduce_mean(tf.nn.sparse_softmax_cross_entropy_with_logits(logits = score, labels = Y))\n",
    "optimizer = tf.train.AdamOptimizer(learning_rate)\n",
    "train_op  = optimizer.minimize(loss)"
   ]
  },
  {
   "cell_type": "code",
   "execution_count": 13,
   "metadata": {},
   "outputs": [],
   "source": [
    "# Prediction\n",
    "prediction = tf.cast(tf.argmax(score, 1), tf.int32)\n",
    "prediction_check = tf.equal(prediction, Y)\n",
    "accuracy = tf.reduce_mean(tf.to_float(prediction_check))"
   ]
  },
  {
   "cell_type": "markdown",
   "metadata": {},
   "source": [
    "### Train Graph"
   ]
  },
  {
   "cell_type": "code",
   "execution_count": 17,
   "metadata": {},
   "outputs": [
    {
     "name": "stdout",
     "output_type": "stream",
     "text": [
      "Epoch: 0001 Avg Loss: 0.194\n",
      "Epoch: 0002 Avg Loss: 0.120\n",
      "Epoch: 0003 Avg Loss: 0.131\n",
      "Epoch: 0004 Avg Loss: 0.095\n",
      "Epoch: 0005 Avg Loss: 0.053\n",
      "Epoch: 0006 Avg Loss: 0.055\n",
      "Epoch: 0007 Avg Loss: 0.039\n",
      "Epoch: 0008 Avg Loss: 0.022\n",
      "Epoch: 0009 Avg Loss: 0.025\n",
      "Epoch: 0010 Avg Loss: 0.012\n",
      "Epoch: 0011 Avg Loss: 0.024\n",
      "Epoch: 0012 Avg Loss: 0.008\n",
      "Epoch: 0013 Avg Loss: 0.056\n",
      "Epoch: 0014 Avg Loss: 0.015\n",
      "Epoch: 0015 Avg Loss: 0.020\n",
      "Epoch: 0016 Avg Loss: 0.047\n",
      "Epoch: 0017 Avg Loss: 0.009\n",
      "Epoch: 0018 Avg Loss: 0.001\n",
      "Epoch: 0019 Avg Loss: 0.008\n",
      "Epoch: 0020 Avg Loss: 0.006\n",
      "Epoch: 0021 Avg Loss: 0.010\n",
      "Epoch: 0022 Avg Loss: 0.004\n",
      "Epoch: 0023 Avg Loss: 0.012\n",
      "Epoch: 0024 Avg Loss: 0.008\n",
      "Epoch: 0025 Avg Loss: 0.003\n",
      "Epoch: 0026 Avg Loss: 0.017\n",
      "Epoch: 0027 Avg Loss: 0.001\n",
      "Epoch: 0028 Avg Loss: 0.000\n",
      "Epoch: 0029 Avg Loss: 0.008\n",
      "Epoch: 0030 Avg Loss: 0.018\n",
      "\n",
      " Accuracy:  1.0\n"
     ]
    }
   ],
   "source": [
    "with tf.Session() as sess:\n",
    "    sess.run(tf.global_variables_initializer())\n",
    "    \n",
    "    for epoch in range(total_epoch):            \n",
    "        _, total_loss = sess.run([train_op, loss], feed_dict = {X:input_batch, Y:target_batch})\n",
    "        \n",
    "        print('Epoch:','%04d' %(epoch+1),\n",
    "              'Avg Loss: %.3f' %(total_loss / len(input_batch)))\n",
    "\n",
    "        \n",
    "    #Prediction\n",
    "    print('\\n Accuracy: ',sess.run(accuracy, feed_dict = {X:input_batch, Y:target_batch}))"
   ]
  },
  {
   "cell_type": "code",
   "execution_count": null,
   "metadata": {},
   "outputs": [],
   "source": []
  },
  {
   "cell_type": "code",
   "execution_count": null,
   "metadata": {},
   "outputs": [],
   "source": []
  },
  {
   "cell_type": "code",
   "execution_count": null,
   "metadata": {},
   "outputs": [],
   "source": []
  }
 ],
 "metadata": {
  "kernelspec": {
   "display_name": "Python 3",
   "language": "python",
   "name": "python3"
  },
  "language_info": {
   "codemirror_mode": {
    "name": "ipython",
    "version": 3
   },
   "file_extension": ".py",
   "mimetype": "text/x-python",
   "name": "python",
   "nbconvert_exporter": "python",
   "pygments_lexer": "ipython3",
   "version": "3.6.4"
  }
 },
 "nbformat": 4,
 "nbformat_minor": 2
}
