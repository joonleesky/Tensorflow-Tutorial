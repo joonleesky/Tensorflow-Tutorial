{
 "cells": [
  {
   "cell_type": "code",
   "execution_count": 1,
   "metadata": {},
   "outputs": [
    {
     "name": "stderr",
     "output_type": "stream",
     "text": [
      "/home/hojoon/anaconda3/lib/python3.6/importlib/_bootstrap.py:219: RuntimeWarning: compiletime version 3.5 of module 'tensorflow.python.framework.fast_tensor_util' does not match runtime version 3.6\n",
      "  return f(*args, **kwds)\n",
      "/home/hojoon/anaconda3/lib/python3.6/site-packages/h5py/__init__.py:36: FutureWarning: Conversion of the second argument of issubdtype from `float` to `np.floating` is deprecated. In future, it will be treated as `np.float64 == np.dtype(float).type`.\n",
      "  from ._conv import register_converters as _register_converters\n"
     ]
    }
   ],
   "source": [
    "import tensorflow as tf\n",
    "import numpy as np\n",
    "import matplotlib.pyplot as plt"
   ]
  },
  {
   "cell_type": "code",
   "execution_count": 2,
   "metadata": {},
   "outputs": [
    {
     "name": "stdout",
     "output_type": "stream",
     "text": [
      "Extracting ../data/mnist/train-images-idx3-ubyte.gz\n",
      "Extracting ../data/mnist/train-labels-idx1-ubyte.gz\n",
      "Extracting ../data/mnist/t10k-images-idx3-ubyte.gz\n",
      "Extracting ../data/mnist/t10k-labels-idx1-ubyte.gz\n"
     ]
    }
   ],
   "source": [
    "from tensorflow.examples.tutorials.mnist import input_data\n",
    "mnist = input_data.read_data_sets(\"../data/mnist/\", one_hot = True)"
   ]
  },
  {
   "cell_type": "code",
   "execution_count": 3,
   "metadata": {},
   "outputs": [],
   "source": [
    "# Config\n",
    "learning_rate  = 1e-2\n",
    "training_epoch = 20\n",
    "batch_size = 128\n",
    "hidden_num = 256\n",
    "input_size = 28*28\n",
    "sample_size = 10"
   ]
  },
  {
   "cell_type": "markdown",
   "metadata": {},
   "source": [
    "### Build Graph"
   ]
  },
  {
   "cell_type": "code",
   "execution_count": 4,
   "metadata": {},
   "outputs": [],
   "source": [
    "X = tf.placeholder(tf.float32, [None, input_size])"
   ]
  },
  {
   "cell_type": "code",
   "execution_count": 5,
   "metadata": {},
   "outputs": [],
   "source": [
    "W_encode = tf.Variable(tf.random_normal([input_size, hidden_num]))\n",
    "b_encode = tf.Variable(tf.random_normal([hidden_num]))\n",
    "\n",
    "W_decode = tf.Variable(tf.random_normal([hidden_num, input_size]))\n",
    "b_decode = tf.Variable(tf.random_normal([input_size]))"
   ]
  },
  {
   "cell_type": "code",
   "execution_count": 6,
   "metadata": {},
   "outputs": [],
   "source": [
    "encoder = tf.nn.sigmoid(tf.add(tf.matmul(X, W_encode), b_encode))\n",
    "decoder = tf.nn.sigmoid(tf.add(tf.matmul(encoder, W_decode), b_decode))"
   ]
  },
  {
   "cell_type": "code",
   "execution_count": 7,
   "metadata": {},
   "outputs": [],
   "source": [
    "loss = tf.reduce_mean(tf.pow(X-decoder,2))\n",
    "optimizer = tf.train.RMSPropOptimizer(learning_rate).minimize(loss)"
   ]
  },
  {
   "cell_type": "markdown",
   "metadata": {},
   "source": [
    "### Run Graph"
   ]
  },
  {
   "cell_type": "code",
   "execution_count": 8,
   "metadata": {},
   "outputs": [
    {
     "name": "stdout",
     "output_type": "stream",
     "text": [
      "Epoch: 0001 Avg Loss: 0.232\n",
      "Epoch: 0002 Avg Loss: 0.066\n",
      "Epoch: 0003 Avg Loss: 0.054\n",
      "Epoch: 0004 Avg Loss: 0.049\n",
      "Epoch: 0005 Avg Loss: 0.046\n",
      "Epoch: 0006 Avg Loss: 0.044\n",
      "Epoch: 0007 Avg Loss: 0.042\n",
      "Epoch: 0008 Avg Loss: 0.042\n",
      "Epoch: 0009 Avg Loss: 0.041\n",
      "Epoch: 0010 Avg Loss: 0.040\n",
      "Epoch: 0011 Avg Loss: 0.040\n",
      "Epoch: 0012 Avg Loss: 0.040\n",
      "Epoch: 0013 Avg Loss: 0.039\n",
      "Epoch: 0014 Avg Loss: 0.038\n",
      "Epoch: 0015 Avg Loss: 0.037\n",
      "Epoch: 0016 Avg Loss: 0.036\n",
      "Epoch: 0017 Avg Loss: 0.036\n",
      "Epoch: 0018 Avg Loss: 0.035\n",
      "Epoch: 0019 Avg Loss: 0.035\n",
      "Epoch: 0020 Avg Loss: 0.034\n"
     ]
    }
   ],
   "source": [
    "with tf.Session() as sess:\n",
    "    sess.run(tf.global_variables_initializer())\n",
    "    \n",
    "    total_batch = int(mnist.train.num_examples / batch_size)\n",
    "    \n",
    "    for epoch in range(training_epoch):\n",
    "        total_loss = 0\n",
    "        \n",
    "        for _ in range(total_batch):\n",
    "            batch_xs, batch_ys = mnist.train.next_batch(batch_size)\n",
    "            _, loss_val = sess.run([optimizer, loss], feed_dict = {X:batch_xs})\n",
    "        \n",
    "            total_loss += loss_val\n",
    "    \n",
    "        print('Epoch:','%04d' %(epoch+1),\n",
    "              'Avg Loss: %.3f'%(total_loss / total_batch))\n",
    "        \n",
    "    \n",
    "    samples = sess.run(decoder, feed_dict = {X:mnist.test.images[:sample_size]})"
   ]
  },
  {
   "cell_type": "markdown",
   "metadata": {},
   "source": [
    "### Generate"
   ]
  },
  {
   "cell_type": "code",
   "execution_count": 9,
   "metadata": {},
   "outputs": [
    {
     "data": {
      "image/png": "[encoded data removed]",
      "text/plain": [
       "<Figure size 720x144 with 20 Axes>"
      ]
     },
     "metadata": {},
     "output_type": "display_data"
    }
   ],
   "source": [
    "fig, ax = plt.subplots(2, sample_size, figsize = (sample_size, 2))\n",
    "\n",
    "for i in range(sample_size):\n",
    "    ax[0][i].set_axis_off()\n",
    "    ax[1][i].set_axis_off()\n",
    "    ax[0][i].imshow(np.reshape(mnist.test.images[i],(28,28)))\n",
    "    ax[1][i].imshow(np.reshape(samples[i],(28,28)))"
   ]
  },
  {
   "cell_type": "code",
   "execution_count": null,
   "metadata": {},
   "outputs": [],
   "source": []
  }
 ],
 "metadata": {
  "kernelspec": {
   "display_name": "Python 3",
   "language": "python",
   "name": "python3"
  },
  "language_info": {
   "codemirror_mode": {
    "name": "ipython",
    "version": 3
   },
   "file_extension": ".py",
   "mimetype": "text/x-python",
   "name": "python",
   "nbconvert_exporter": "python",
   "pygments_lexer": "ipython3",
   "version": "3.6.4"
  }
 },
 "nbformat": 4,
 "nbformat_minor": 2
}
