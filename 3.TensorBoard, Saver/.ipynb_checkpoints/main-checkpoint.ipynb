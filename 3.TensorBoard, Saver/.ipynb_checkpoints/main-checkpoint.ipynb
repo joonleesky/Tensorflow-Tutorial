{
 "cells": [
  {
   "cell_type": "code",
   "execution_count": 1,
   "metadata": {},
   "outputs": [
    {
     "name": "stderr",
     "output_type": "stream",
     "text": [
      "/home/hojoon/anaconda3/lib/python3.6/importlib/_bootstrap.py:219: RuntimeWarning: compiletime version 3.5 of module 'tensorflow.python.framework.fast_tensor_util' does not match runtime version 3.6\n",
      "  return f(*args, **kwds)\n",
      "/home/hojoon/anaconda3/lib/python3.6/site-packages/h5py/__init__.py:36: FutureWarning: Conversion of the second argument of issubdtype from `float` to `np.floating` is deprecated. In future, it will be treated as `np.float64 == np.dtype(float).type`.\n",
      "  from ._conv import register_converters as _register_converters\n"
     ]
    }
   ],
   "source": [
    "import tensorflow as tf\n",
    "import numpy as np"
   ]
  },
  {
   "cell_type": "markdown",
   "metadata": {},
   "source": [
    "### Data"
   ]
  },
  {
   "cell_type": "code",
   "execution_count": 2,
   "metadata": {},
   "outputs": [],
   "source": [
    "def one_hot(x):\n",
    "    X = np.zeros([len(x), max(x)+1])\n",
    "    X[np.arange(len(x)),x] = 1\n",
    "    \n",
    "    return X"
   ]
  },
  {
   "cell_type": "code",
   "execution_count": 3,
   "metadata": {},
   "outputs": [],
   "source": [
    "x_data = np.array([[0,0], [1,0], [1,1], [0,0], [0,0], [0,1]])\n",
    "y_data = np.array([0,1,2,0,0,2])\n",
    "y_data = one_hot(y_data)"
   ]
  },
  {
   "cell_type": "markdown",
   "metadata": {},
   "source": [
    "### Build Graph"
   ]
  },
  {
   "cell_type": "code",
   "execution_count": 4,
   "metadata": {},
   "outputs": [],
   "source": [
    "X = tf.placeholder(tf.float32, shape = [None, 2])\n",
    "Y = tf.placeholder(tf.float32, shape = [None, 3])"
   ]
  },
  {
   "cell_type": "code",
   "execution_count": 5,
   "metadata": {},
   "outputs": [],
   "source": [
    "global_step = tf.Variable(0, trainable=False, name = 'global_step')"
   ]
  },
  {
   "cell_type": "code",
   "execution_count": 6,
   "metadata": {},
   "outputs": [],
   "source": [
    "with tf.name_scope(\"layer1\"):\n",
    "    W1 = tf.Variable(tf.random_uniform([2,5],-1.0, 1.0))\n",
    "    b1 = tf.Variable(tf.zeros([5]))\n",
    "    \n",
    "    h1 = tf.add(tf.matmul(X, W1),b1)\n",
    "    a1 = tf.nn.relu(h1)\n",
    "\n",
    "    \n",
    "with tf.name_scope(\"layer2\"):\n",
    "    W2 = tf.Variable(tf.random_uniform([5,10],-1.0, 1.0))\n",
    "    b2 = tf.Variable(tf.zeros([10]))\n",
    "    \n",
    "    h2 = tf.add(tf.matmul(a1, W2),b2)\n",
    "    a2 = tf.nn.relu(h2)\n",
    "\n",
    "    \n",
    "with tf.name_scope(\"layer3\"):\n",
    "    W3 = tf.Variable(tf.random_uniform([10,3],-1.0, 1.0))\n",
    "    b3 = tf.Variable(tf.zeros([3]))\n",
    "    \n",
    "    score = tf.add(tf.matmul(a2, W3),b3)"
   ]
  },
  {
   "cell_type": "code",
   "execution_count": 7,
   "metadata": {},
   "outputs": [],
   "source": [
    "with tf.name_scope(\"loss\"):\n",
    "    loss = tf.reduce_mean(tf.nn.softmax_cross_entropy_with_logits(labels = Y, logits = score))\n",
    "    \n",
    "    # To track in the tensorboard\n",
    "    tf.summary.scalar('loss',loss)\n",
    "\n",
    "\n",
    "with tf.name_scope(\"optimizier\"):\n",
    "    optimizer = tf.train.AdamOptimizer(learning_rate=1e-2)\n",
    "    train_op  = optimizer.minimize(loss, global_step= global_step)"
   ]
  },
  {
   "cell_type": "code",
   "execution_count": 8,
   "metadata": {},
   "outputs": [],
   "source": [
    "with tf.name_scope(\"prediction\"):\n",
    "    pred   = tf.argmax(score, 1)\n",
    "    target = tf.argmax(Y, 1)\n",
    "\n",
    "    accuracy = tf.reduce_mean(tf.to_float(tf.equal(pred, target)))"
   ]
  },
  {
   "cell_type": "code",
   "execution_count": 9,
   "metadata": {},
   "outputs": [],
   "source": []
  },
  {
   "cell_type": "code",
   "execution_count": null,
   "metadata": {},
   "outputs": [],
   "source": []
  },
  {
   "cell_type": "markdown",
   "metadata": {},
   "source": [
    "### Run Graph"
   ]
  },
  {
   "cell_type": "code",
   "execution_count": 19,
   "metadata": {},
   "outputs": [
    {
     "name": "stdout",
     "output_type": "stream",
     "text": [
      "INFO:tensorflow:Restoring parameters from ./model/dnn.ckpt-18\n",
      "Step:19   Loss:0.821\n",
      "Step:20   Loss:0.803\n",
      "\n",
      "Prediction: [0 1 2 0 0 2]\n",
      "True:       [0 1 2 0 0 2]\n",
      "Accuracy: 1.00\n"
     ]
    }
   ],
   "source": [
    "with tf.Session() as sess:\n",
    "    # Store all the variables into saver\n",
    "    saver = tf.train.Saver(tf.global_variables())\n",
    "    # Allocate the directory to save the graph\n",
    "    merged = tf.summary.merge_all()\n",
    "    writer = tf.summary.FileWriter('./logs', sess.graph)\n",
    "    \n",
    "    # Check Whether there exits a saved model\n",
    "    ckpt  = tf.train.get_checkpoint_state('./model')\n",
    "    # Restore the variables if there exists a saved model \n",
    "    if ckpt and tf.train.checkpoint_exists(ckpt.model_checkpoint_path):\n",
    "        saver.restore(sess, ckpt.model_checkpoint_path)\n",
    "    else:\n",
    "        sess.run(tf.global_variables_initializer())\n",
    "    \n",
    "    # Train\n",
    "    for step in range(2):\n",
    "        sess.run(train_op, feed_dict = {X:x_data, Y:y_data})\n",
    "        \n",
    "        print('Step:%d  ' % sess.run(global_step),\n",
    "              'Loss:%.3f' % sess.run(loss, feed_dict = {X:x_data, Y:y_data}))\n",
    "    \n",
    "    # Save the summary\n",
    "    summary = sess.run(merged, feed_dict = {X:x_data, Y:y_data})\n",
    "    writer.add_summary(summary, global_step = sess.run(global_step))\n",
    "    \n",
    "    # Save the model\n",
    "    saver.save(sess, './model/dnn.ckpt', global_step = global_step)\n",
    "    \n",
    "    \n",
    "    # Prediction\n",
    "    print('\\nPrediction:', sess.run(pred, feed_dict = {X:x_data, Y:y_data}))\n",
    "    print('True:      ', np.argmax(y_data,1))\n",
    "    print('Accuracy: %.2f' %sess.run(accuracy, feed_dict = {X:x_data, Y:y_data}))\n",
    "    "
   ]
  },
  {
   "cell_type": "code",
   "execution_count": null,
   "metadata": {},
   "outputs": [],
   "source": []
  },
  {
   "cell_type": "code",
   "execution_count": null,
   "metadata": {},
   "outputs": [],
   "source": []
  }
 ],
 "metadata": {
  "kernelspec": {
   "display_name": "Python 3",
   "language": "python",
   "name": "python3"
  },
  "language_info": {
   "codemirror_mode": {
    "name": "ipython",
    "version": 3
   },
   "file_extension": ".py",
   "mimetype": "text/x-python",
   "name": "python",
   "nbconvert_exporter": "python",
   "pygments_lexer": "ipython3",
   "version": "3.6.4"
  }
 },
 "nbformat": 4,
 "nbformat_minor": 2
}
