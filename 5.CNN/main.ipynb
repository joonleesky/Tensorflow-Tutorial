{
 "cells": [
  {
   "cell_type": "code",
   "execution_count": 1,
   "metadata": {},
   "outputs": [
    {
     "name": "stderr",
     "output_type": "stream",
     "text": [
      "/home/hojoon/anaconda3/lib/python3.6/importlib/_bootstrap.py:219: RuntimeWarning: compiletime version 3.5 of module 'tensorflow.python.framework.fast_tensor_util' does not match runtime version 3.6\n",
      "  return f(*args, **kwds)\n",
      "/home/hojoon/anaconda3/lib/python3.6/site-packages/h5py/__init__.py:36: FutureWarning: Conversion of the second argument of issubdtype from `float` to `np.floating` is deprecated. In future, it will be treated as `np.float64 == np.dtype(float).type`.\n",
      "  from ._conv import register_converters as _register_converters\n"
     ]
    }
   ],
   "source": [
    "import tensorflow as tf\n",
    "import numpy as np"
   ]
  },
  {
   "cell_type": "code",
   "execution_count": 2,
   "metadata": {},
   "outputs": [
    {
     "name": "stdout",
     "output_type": "stream",
     "text": [
      "Extracting ../data/mnist/train-images-idx3-ubyte.gz\n",
      "Extracting ../data/mnist/train-labels-idx1-ubyte.gz\n",
      "Extracting ../data/mnist/t10k-images-idx3-ubyte.gz\n",
      "Extracting ../data/mnist/t10k-labels-idx1-ubyte.gz\n"
     ]
    }
   ],
   "source": [
    "from tensorflow.examples.tutorials.mnist import input_data\n",
    "mnist = input_data.read_data_sets(\"../data/mnist/\", one_hot = True)"
   ]
  },
  {
   "cell_type": "markdown",
   "metadata": {},
   "source": [
    "### Build Graph"
   ]
  },
  {
   "cell_type": "code",
   "execution_count": 3,
   "metadata": {},
   "outputs": [],
   "source": [
    "X = tf.placeholder(tf.float32, [None, 28, 28, 1])\n",
    "Y = tf.placeholder(tf.float32, [None, 10])\n",
    "\n",
    "#keep_prob = tf.placeholder(tf.float32)\n",
    "is_train = tf.placeholder(tf.bool, name='is_train')"
   ]
  },
  {
   "cell_type": "code",
   "execution_count": 4,
   "metadata": {},
   "outputs": [
    {
     "name": "stdout",
     "output_type": "stream",
     "text": [
      "Tensor(\"Placeholder:0\", shape=(?, 28, 28, 1), dtype=float32)\n",
      "Tensor(\"Relu:0\", shape=(?, 28, 28, 32), dtype=float32)\n",
      "Tensor(\"MaxPool:0\", shape=(?, 14, 14, 32), dtype=float32)\n"
     ]
    }
   ],
   "source": [
    "# Width, Height, Depth, KernalSize\n",
    "W1 = tf.Variable(tf.random_normal([3,3,1,32],stddev = 0.01))\n",
    "L1 = tf.nn.conv2d(X, W1, strides=[1,1,1,1], padding = 'SAME')\n",
    "L1 = tf.layers.batch_normalization(L1, center=True, scale=True,training=is_train)\n",
    "L1 = tf.nn.relu(L1)\n",
    "A2 = tf.nn.max_pool(L1, ksize = [1,2,2,1], strides=[1,2,2,1], padding = 'SAME')\n",
    "\n",
    "print(X)\n",
    "print(L1)\n",
    "print(A2)"
   ]
  },
  {
   "cell_type": "code",
   "execution_count": 5,
   "metadata": {},
   "outputs": [
    {
     "name": "stdout",
     "output_type": "stream",
     "text": [
      "Tensor(\"MaxPool:0\", shape=(?, 14, 14, 32), dtype=float32)\n",
      "Tensor(\"Relu_1:0\", shape=(?, 14, 14, 64), dtype=float32)\n",
      "Tensor(\"MaxPool_1:0\", shape=(?, 7, 7, 64), dtype=float32)\n"
     ]
    }
   ],
   "source": [
    "W2 = tf.Variable(tf.random_normal([3,3,32,64],stddev = 0.01))\n",
    "L2 = tf.nn.conv2d(A2, W2, strides=[1,1,1,1], padding = 'SAME')\n",
    "L2 = tf.layers.batch_normalization(L2, center=True, scale=True,training=is_train)\n",
    "L2 = tf.nn.relu(L2)\n",
    "A3 = tf.nn.max_pool(L2, ksize = [1,2,2,1], strides=[1,2,2,1], padding = 'SAME')\n",
    "\n",
    "print(A2)\n",
    "print(L2)\n",
    "print(A3)"
   ]
  },
  {
   "cell_type": "code",
   "execution_count": 6,
   "metadata": {},
   "outputs": [
    {
     "name": "stdout",
     "output_type": "stream",
     "text": [
      "Tensor(\"Reshape:0\", shape=(?, 3136), dtype=float32)\n",
      "Tensor(\"MatMul:0\", shape=(?, 256), dtype=float32)\n",
      "Tensor(\"Relu_2:0\", shape=(?, 256), dtype=float32)\n"
     ]
    }
   ],
   "source": [
    "# Width, Height, Depth, KernalSize\n",
    "W3 = tf.Variable(tf.random_normal([7*7*64, 256],stddev = 0.01))\n",
    "A3 = tf.reshape(A3, [-1, 7*7*64])\n",
    "L3 = tf.matmul(A3, W3)\n",
    "A4 = tf.nn.relu(L3)\n",
    "\n",
    "print(A3)\n",
    "print(L3)\n",
    "print(A4)"
   ]
  },
  {
   "cell_type": "code",
   "execution_count": 7,
   "metadata": {},
   "outputs": [
    {
     "name": "stdout",
     "output_type": "stream",
     "text": [
      "Tensor(\"Relu_2:0\", shape=(?, 256), dtype=float32)\n",
      "Tensor(\"MatMul_1:0\", shape=(?, 10), dtype=float32)\n"
     ]
    }
   ],
   "source": [
    "# Width, Height, Depth, KernalSize\n",
    "W4 = tf.Variable(tf.random_normal([256, 10],stddev = 0.01))\n",
    "score = tf.matmul(A4, W4)\n",
    "\n",
    "print(A4)\n",
    "print(score)"
   ]
  },
  {
   "cell_type": "code",
   "execution_count": 8,
   "metadata": {},
   "outputs": [],
   "source": [
    "loss = tf.reduce_mean(tf.nn.softmax_cross_entropy_with_logits(logits = score, labels = Y))\n",
    "optimizer = tf.train.AdamOptimizer(1e-3)\n",
    "\n",
    "update_ops = tf.get_collection(tf.GraphKeys.UPDATE_OPS)\n",
    "with tf.control_dependencies(update_ops):\n",
    "    train_op = optimizer.minimize(loss)"
   ]
  },
  {
   "cell_type": "code",
   "execution_count": 9,
   "metadata": {},
   "outputs": [],
   "source": [
    "is_correct = tf.equal(tf.argmax(score, 1), tf.argmax(Y, 1))\n",
    "accuracy = tf.reduce_mean(tf.to_float(is_correct))"
   ]
  },
  {
   "cell_type": "code",
   "execution_count": 10,
   "metadata": {},
   "outputs": [],
   "source": [
    "# To track in the tensorboard\n",
    "tf.summary.scalar('loss',loss)\n",
    "tf.summary.scalar('accuracy',accuracy)\n",
    "\n",
    "merged = tf.summary.merge_all()"
   ]
  },
  {
   "cell_type": "markdown",
   "metadata": {},
   "source": [
    "### Train Graph"
   ]
  },
  {
   "cell_type": "code",
   "execution_count": 11,
   "metadata": {},
   "outputs": [
    {
     "name": "stdout",
     "output_type": "stream",
     "text": [
      "Epoch: 0001 Avg Loss: 0.136\n",
      "Epoch: 0002 Avg Loss: 0.044\n",
      "Epoch: 0003 Avg Loss: 0.031\n",
      "Epoch: 0004 Avg Loss: 0.026\n",
      "Epoch: 0005 Avg Loss: 0.021\n",
      "Epoch: 0006 Avg Loss: 0.017\n",
      "Epoch: 0007 Avg Loss: 0.012\n",
      "Epoch: 0008 Avg Loss: 0.010\n",
      "Epoch: 0009 Avg Loss: 0.013\n",
      "Epoch: 0010 Avg Loss: 0.010\n",
      "Epoch: 0011 Avg Loss: 0.011\n",
      "Epoch: 0012 Avg Loss: 0.007\n",
      "Epoch: 0013 Avg Loss: 0.007\n",
      "Epoch: 0014 Avg Loss: 0.006\n",
      "Epoch: 0015 Avg Loss: 0.008\n",
      "Epoch: 0016 Avg Loss: 0.007\n",
      "Epoch: 0017 Avg Loss: 0.004\n",
      "Epoch: 0018 Avg Loss: 0.004\n",
      "Epoch: 0019 Avg Loss: 0.006\n",
      "Epoch: 0020 Avg Loss: 0.005\n",
      "Epoch: 0021 Avg Loss: 0.003\n",
      "Epoch: 0022 Avg Loss: 0.007\n",
      "Epoch: 0023 Avg Loss: 0.003\n",
      "Epoch: 0024 Avg Loss: 0.003\n",
      "Epoch: 0025 Avg Loss: 0.004\n",
      "Epoch: 0026 Avg Loss: 0.001\n",
      "Epoch: 0027 Avg Loss: 0.001\n",
      "Epoch: 0028 Avg Loss: 0.006\n",
      "Epoch: 0029 Avg Loss: 0.003\n",
      "Epoch: 0030 Avg Loss: 0.003\n"
     ]
    }
   ],
   "source": [
    "with tf.Session() as sess:\n",
    "    sess.run(tf.global_variables_initializer())\n",
    "    \n",
    "    # Allocate the directory to save the graph\n",
    "    test_writer = tf.summary.FileWriter('./logs/test', sess.graph)\n",
    "    \n",
    "    batch_size  = 128\n",
    "    total_batch = mnist.train.num_examples // batch_size\n",
    "    \n",
    "    for epoch in range(30):\n",
    "        total_loss = 0\n",
    "        \n",
    "        for _ in range(total_batch):\n",
    "            x_batch, y_batch = mnist.train.next_batch(batch_size)\n",
    "            x_batch = x_batch.reshape(-1,28,28,1)\n",
    "            \n",
    "            _, loss_val = sess.run([train_op, loss], feed_dict={X:x_batch, Y:y_batch, is_train:True})\n",
    "            total_loss += loss_val\n",
    "            \n",
    "        print('Epoch:','%04d' %(epoch+1),\n",
    "              'Avg Loss: %.3f'%(total_loss / total_batch))\n",
    "       \n",
    "        summary_test = sess.run(merged, feed_dict = {X:mnist.test.images.reshape(-1,28,28,1), Y:mnist.test.labels, is_train:False})\n",
    "        test_writer.add_summary(summary_test, global_step = epoch)\n",
    "        \n",
    "    test_writer.close()"
   ]
  },
  {
   "cell_type": "code",
   "execution_count": null,
   "metadata": {},
   "outputs": [],
   "source": []
  },
  {
   "cell_type": "code",
   "execution_count": null,
   "metadata": {},
   "outputs": [],
   "source": []
  }
 ],
 "metadata": {
  "kernelspec": {
   "display_name": "Python 3",
   "language": "python",
   "name": "python3"
  },
  "language_info": {
   "codemirror_mode": {
    "name": "ipython",
    "version": 3
   },
   "file_extension": ".py",
   "mimetype": "text/x-python",
   "name": "python",
   "nbconvert_exporter": "python",
   "pygments_lexer": "ipython3",
   "version": "3.6.4"
  }
 },
 "nbformat": 4,
 "nbformat_minor": 2
}
